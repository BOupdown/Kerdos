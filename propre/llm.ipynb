{
 "cells": [
  {
   "cell_type": "code",
   "execution_count": null,
   "metadata": {},
   "outputs": [],
   "source": [
    "from propre.rechercheFct import search_Rag\n",
    "from sentence_transformers import SentenceTransformer,CrossEncoder\n",
    "\n",
    "embedder = SentenceTransformer(\"paraphrase-multilingual-mpnet-base-v2\")\n",
    "cross_encoder = CrossEncoder(\"cross-encoder/ms-marco-electra-base\")\n",
    "\n"
   ]
  },
  {
   "cell_type": "code",
   "execution_count": 5,
   "metadata": {},
   "outputs": [
    {
     "name": "stdout",
     "output_type": "stream",
     "text": [
      "[{'content': \"Toute les tuyauteries à températures élevée doivent être isolées. Cependant, appliquée à un réseau de chauffage, l'isolation doit concerner en priorité les parties situées hors volume chauffé car la chaleur est perdue.\\n\\nLes parties situées en volume chauffé peuvent être moins isolées car la chaleur perdue contribue à chauffer la pièce. De ce fait, le besoin de chauffage est diminué.\", 'document': \"Isolation d'un réseau hydraulique de chauffage\", 'codeK': '291', 'title': '## Application'}, {'content': 'Mettre en place une ventilation par déplacements', 'document': 'Ventilation par déplacements', 'codeK': '1096', 'title': '## Définition'}, {'content': 'La mise en place de vannes d’isolement s’applique aux zones où la production est régulièrement arrêtée, mais elle est aussi primordiale pour isoler les parties de réseaux qui ne sont plus utilisées aujourd’hui à cause d’un déplacement de l’outil de production.\\n\\nLe zonage réduit les fuites ou les mauvais usages possibles.', 'document': 'Vannes d’isolement pour couper l’arrivée d’air comprimé des ateliers non utilisés', 'codeK': '144', 'title': '## Application'}, {'content': 'Une bonne isolation contribue à l’efficacité énergétique des bâtiments car elle permet de réduire les besoins en chauffage l’hiver et les besoins en climatisation l’été.\\n\\nElle permet ensuite de rendre pertinente l’installation d’équipements de chauffage performants.\\n\\nUn matériau isolant possède une faible conductivité thermique et va bloquer les transferts de chaleur. Pour caractériser l’isolation on définit le coefficient de transmission thermique appelé U en W/(m².K) ou bien la résistance thermique R en m².K/W.', 'document': \"Isolation des murs par l'intérieur\", 'codeK': '251', 'title': '## Définition'}, {'content': 'Une bonne isolation contribue à l’efficacité énergétique des bâtiments car elle permet de réduire les besoins en chauffage l’hiver et les besoins en climatisation l’été.\\n\\nElle permet ensuite de rendre pertinente l’installation d’équipements de chauffage performants.\\n\\nUn matériau isolant possède une faible conductivité thermique et va bloquer les transferts de chaleur. Pour caractériser l’isolation on définit le coefficient de transmission thermique appelé U en W/(m².K) ou bien la résistance thermique R en m².K/W.', 'document': 'Isolation des combles ou de toiture', 'codeK': '250', 'title': '## Définition'}, {'content': 'Une bonne isolation contribue à l’efficacité énergétique des bâtiments car elle permet de réduire les besoins en chauffage l’hiver et les besoins en climatisation l’été.\\n\\nElle permet ensuite de rendre pertinente l’installation d’équipements de chauffage performants.\\n\\nUn matériau isolant possède une faible conductivité thermique et va bloquer les transferts de chaleur. Pour caractériser l’isolation on définit le coefficient de transmission thermique appelé U en W/(m².K) ou bien la résistance thermique R en m².K/W.', 'document': 'Isolation des toitures terrasses et couvertures de faible pente', 'codeK': '255', 'title': '## Définition'}, {'content': 'Une bonne isolation contribue à l’efficacité énergétique des bâtiments car elle permet de réduire les besoins en chauffage l’hiver et les besoins en climatisation l’été. Un matériau isolant possède une faible conductivité thermique et va bloquer les transferts de chaleur. Pour caractériser l’isolation on définit le coefficient de transmission thermique appelé U en W/(m².K) ou bien la résistance thermique R en m².K/W.', 'document': \"Isolation des murs par l'extérieur\", 'codeK': '254', 'title': '## Définition'}, {'content': \"Mettre en place une vanne permettant d'isoler le départ vapeur quand la vapeur n'est plus utilisée (nuit, weekend…)\", 'document': \"Vanne permettant d'isoler le départ vapeur\", 'codeK': '1008', 'title': '## Définition'}, {'content': 'La pose d’un matériau isolant à l’intérieur ou l’extérieur des murs est pertinente car les murs sont responsables de 20 à 25 % des pertes thermiques su bâtiment.\\n\\nLes déperditions thermiques d’un bâtiment mal ou non isolé se répartissent comme sur le schéma ci-contre. Lors d’une rénovation, il est donc important d’agir sur plusieurs postes du bâti pour une meilleure efficacité.', 'document': \"Isolation des murs par l'extérieur\", 'codeK': '254', 'title': '## Bilan énergie'}, {'content': 'La pose d’un matériau isolant à l’intérieur ou l’extérieur des murs est pertinente car les murs sont responsables de 20 à 25 % des pertes thermiques su bâtiment.\\n\\nLes déperditions thermiques d’un bâtiment mal ou non isolé se répartissent comme sur le schéma ci-contre. Lors d’une rénovation, il est donc important d’agir sur plusieurs postes du bâti pour une meilleure efficacité.', 'document': \"Isolation des murs par l'intérieur\", 'codeK': '251', 'title': '## Bilan énergie'}, {'content': \"L’isolation des lignes de conditionnement en période de non utilisation, le week end par exemple, permettrait de limiter les fuites d’air. Ces lignes consomment de l’air comprimé qui peut être coupé en période de non utilisation.\\n\\nDans ce cadre, les zones à faible fréquence d'activité (ou zone à activité décalée) qui ont une consommation significative et installer des vannes d'isolement des circuits dans les cas appropriés doivent être identifiées. Les vannes pourront être manuelles ou automatiques. Dans le dernier cas, la commande peut être pilotée par horloge programmable ou de manière centralisée.\", 'document': 'Vannes d’isolement pour couper l’arrivée d’air comprimé des ateliers non utilisés', 'codeK': '144', 'title': '## Définition'}, {'content': 'Les pertes thermiques sont réduites de 90 % par une isolation classique en toiture.\\n\\nLa pose d’un matériau isolant sous les toitures est importante car, non isolées, les toitures sont responsables de 25 à 30 % des pertes thermiques du bâtiment.\\n\\nLes déperditions thermiques d’un bâtiment mal ou non isolé se répartissent comme sur le schéma ci-contre. Lors d’une rénovation, il est donc important d’agir sur plusieurs postes du bâti pour une meilleure efficacité.', 'document': 'Isolation des combles ou de toiture', 'codeK': '250', 'title': '## Bilan énergie'}, {'content': 'Les pertes thermiques sont réduites de 90 % par une isolation classique en toiture.\\n\\nLa pose d’un matériau isolant sous les toitures est importante car, non isolées, les toitures sont responsables de 25 à 30 % des pertes thermiques du bâtiment.\\n\\nLes déperditions thermiques d’un bâtiment mal ou non isolé se répartissent comme sur le schéma ci-contre. Lors d’une rénovation, il est donc important d’agir sur plusieurs postes du bâti pour une meilleure efficacité.', 'document': 'Isolation des toitures terrasses et couvertures de faible pente', 'codeK': '255', 'title': '## Bilan énergie'}, {'content': \"Une chaudière non isolée du résau se comporte comme un radiateur dans la chaufferie. En la maintenant à température, les pertes de chaleur vers la chaufferie sont importantes.\\n\\nUne solution est d'isoler hydrauliquement les chaudières quand elles ne sont pas utilisées par l'installation d'électrovannes en amont et en aval de ces chaudières.\\n\\nSi la solution est mise en place, il faudra respecter néanmoins les prescriptions garantissant le bon fonctionnement de la régulation en cascade.\", 'document': 'Isolation hydraulique des chaudières quand elles ne sont pas utilisées', 'codeK': '963', 'title': '## Définition'}, {'content': \"L'isolation permet de limiter jusqu'à 70% des pertes de chaleur provenant des conduite. De ce fait, il est important d'isoler les canalisations dans lesquelles passent les fluides chauds.\\n\\nLes pertes de chaleurs dans les tuyauteries doivent être compensées par une surconsommation d'énergie au niveau du système de production de chaleur.\", 'document': \"Isolation d'un réseau hydraulique de chauffage\", 'codeK': '291', 'title': '## Définition'}, {'content': \"Lorsque les salles ne sont pas utilisées, le maintien à la même température de consigne qu'en période d'occupation entraîne une consommation d'énergie inutile.\\n\\nLa mise en place de thermostats à deux seuils couplés à l'installation de détecteurs de présence dans les locaux à occupation non continue est une solution pour limiter cette consommation d'énergie. Lorsque le local n'est pas occupé, le thermostat passe sur la température de consigne intermédiaire, plus faible.\\n\\nDans les locaux ou les cycles d'occupation/inoccupation sont réguliers, un programmateur hebdomadaire peut être installé pour gérer les différents niveaux de consigne. Les températures de relance du chauffage avant l'arrivée du personnel doivent être optimisées en tenant compte de l'inertie du bâtiment.\", 'document': \"Chauffage et la climatisation adaptés à l'occupation des locaux\", 'codeK': '295', 'title': '## Définition'}, {'content': \"La solution est applicable à tout types de bâtiment qui n'est pas isolé. Les zones non calorifugées d'un bâtiment doivent être connues pour pouvoir y remedier facilement quand celà sera possible.\\n\\nLa solution peut s'appliquer aux toitures terrasses des bâtiments industriels et tertiaires ou au combles de bâtiment residentiels.\", 'document': 'Isolation des combles ou de toiture', 'codeK': '250', 'title': '## Application'}, {'content': \"La solution est applicable à tout types de bâtiment qui n'est pas isolé. Les zones non calorifugées d'un bâtiment doivent être connues pour pouvoir y remedier facilement quand celà sera possible.\\n\\nLa solution peut s'appliquer aux toitures terrasses des bâtiments industriels et tertiaires ou au combles de bâtiment residentiels.\", 'document': 'Isolation des toitures terrasses et couvertures de faible pente', 'codeK': '255', 'title': '## Application'}, {'content': \"Pour les systèmes individuels, il convient d’expliquer aux occupants des bureaux comment adapter le fonctionnement des appareils à leur propre exigence de confort et surtout de leur rappeler qu’il faut éviter les gaspillages d’énergie. Une fiche explicative synthétique sur l'équipement peut leur être fournie.\", 'document': \"Chauffage et la climatisation adaptés à l'occupation des locaux\", 'codeK': '295', 'title': '## Définition'}, {'content': '**Gains : +++**\\nde réduction des pertes thermiques est possible par la pose de 10 à 15 cm de laine de verre.\\n\\n**Effets positifs :**\\n* Meilleur confort thermique été comme hiver.\\n* L’isolation thermique peut apporter une isolation acoustique supplémentaire.', 'document': 'Isolation des toitures terrasses et couvertures de faible pente', 'codeK': '255', 'title': '## Gains'}]\n"
     ]
    }
   ],
   "source": [
    "query = \"Comment isoler ma maison\"\n",
    "\n",
    "top_k = 10\n",
    "documents = search_Rag(query,embedder,embedder,cross_encoder,cross_encoder,top_k,top_k)\n"
   ]
  },
  {
   "cell_type": "code",
   "execution_count": null,
   "metadata": {},
   "outputs": [],
   "source": [
    "import requests\n",
    "from propre.rechercheFct import search_Rag\n",
    "\n",
    "OLLAMA_API_URL = \"http://localhost:11434/api/generate\"  # API locale d'Ollama\n",
    "\n",
    "def query_ollama(question, documents):\n",
    "    \"\"\"Envoie une requête à l'API locale d'Ollama pour générer une réponse basée sur des documents fournis.\"\"\"\n",
    "\n",
    "    content = [doc[\"content\"] for doc in retour if \"content\" in doc]  # Récupère tous les documents\n",
    "\n",
    "    # Vérifier que des documents sont fournis\n",
    "    if not documents:\n",
    "        return \"Erreur : Aucun document fourni.\"\n",
    "\n",
    "    # Concaténer tous les documents en un seul texte\n",
    "    context = \"\\n\\n\".join(content)\n",
    "    # context = \"\\n\\n\".join([f\"[Extrait {i+1}]\\n{doc}\" for i, doc in enumerate(documents)])\n",
    "    # Construire le prompt pour Gemma\n",
    "    prompt = f\"\"\"DOCUMENTS:\\n{context}\\n\\nQUESTION:\\n{question}\\n\\nINSTRUCTIONS:\n",
    "    1 . Réponds à la QUESTION en utilisant exclusivement les DOCUMENTS fournis.\n",
    "    Ne te force pas à utiliser tous les documents\n",
    "    Ta réponse doit être concise, claire et formulée avec tes propres mots.\n",
    "    2. Donne des exemples concrets si possible.\n",
    "    Donne des explications détaillées si nécessaire.\n",
    "    N'hésite pas à donner plusieurs informations.\n",
    "    Si la réponse n'est pas contenue dans les documents, réponds simplement que tu n'as pas trouvé d'information sur ce sujet.\n",
    "    \"\"\"\n",
    "\n",
    "    # Préparer le payload pour Ollama\n",
    "    payload = {\n",
    "        \"model\": \"gemma:2b\",  # Spécifie le modèle utilisé\n",
    "        \"prompt\": prompt,\n",
    "        \"stream\": False  # False = réponse complète, True = réponse en streaming (optionnel)\n",
    "    }\n",
    "\n",
    "    try:\n",
    "        response = requests.post(OLLAMA_API_URL, json=payload, timeout=60)\n",
    "        response.raise_for_status()  # Vérifie que la requête est bien passée\n",
    "        return response.json().get(\"response\", \"Erreur : Réponse vide.\")\n",
    "    except requests.exceptions.RequestException as e:\n",
    "        return f\"Erreur lors de la requête Ollama : {str(e)}\"\n",
    "\n",
    "#  Exemple d'utilisation :\n",
    "question = query\n",
    "documents = [doc[\"content\"] for doc in retour if \"content\" in doc]  # Récupère tous les documents\n",
    "\n",
    "output = query_ollama(question, documents)\n",
    "print(output)\n"
   ]
  }
 ],
 "metadata": {
  "kernelspec": {
   "display_name": ".venv",
   "language": "python",
   "name": "python3"
  },
  "language_info": {
   "codemirror_mode": {
    "name": "ipython",
    "version": 3
   },
   "file_extension": ".py",
   "mimetype": "text/x-python",
   "name": "python",
   "nbconvert_exporter": "python",
   "pygments_lexer": "ipython3",
   "version": "3.9.9"
  }
 },
 "nbformat": 4,
 "nbformat_minor": 2
}
