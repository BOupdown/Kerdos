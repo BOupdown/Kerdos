{
 "cells": [
  {
   "cell_type": "code",
   "execution_count": 7,
   "metadata": {},
   "outputs": [],
   "source": [
    "import json\n",
    "import faiss\n",
    "import numpy as np\n",
    "from sentence_transformers import SentenceTransformer, CrossEncoder, util"
   ]
  },
  {
   "cell_type": "code",
   "execution_count": 8,
   "metadata": {},
   "outputs": [],
   "source": [
    "# Charger les données JSON\n",
    "json_file_path = \"linked_files.json\"\n",
    "with open(json_file_path, \"r\", encoding=\"utf-8\") as file:\n",
    "    json_data = json.load(file)"
   ]
  },
  {
   "cell_type": "code",
   "execution_count": 9,
   "metadata": {},
   "outputs": [],
   "source": [
    "# Extraire les titres et le contenu technique\n",
    "documents = []\n",
    "for entry in json_data:\n",
    "    title = entry[\"title\"]\n",
    "    content = entry[\"content\"]\n",
    "    # Extraire uniquement la partie \"Technique\" du contenu\n",
    "    if \"# Technique\" in content:\n",
    "        technique_section = content.split(\"# Technique\")[1].split(\"#\")[0].strip()\n",
    "    else:\n",
    "        technique_section = \"\"\n",
    "    # Combiner le titre et le contenu technique\n",
    "    combined_text = f\"{title} {technique_section}\"\n",
    "    documents.append(combined_text)"
   ]
  },
  {
   "cell_type": "code",
   "execution_count": 20,
   "metadata": {},
   "outputs": [],
   "source": [
    "# Initialiser le modèle SBERT et le Cross-Encoder\n",
    "sbert_model = SentenceTransformer(\"paraphrase-multilingual-mpnet-base-v2\")\n",
    "cross_encoder = CrossEncoder(\"cross-encoder/ms-marco-electra-base\")\n",
    "#cross-encoder/ms-marco-MiniLM-L-12-v2\n",
    "#cross-encoder/ms-marco-MiniLM-L-6-v2\n",
    "\n",
    "\n",
    "# Calculer les embeddings des documents\n",
    "embeddings = sbert_model.encode(documents, convert_to_tensor=True)\n",
    "\n",
    "# Indexer avec FAISS\n",
    "index = faiss.IndexFlatL2(embeddings.shape[1])\n",
    "faiss.normalize_L2(embeddings.numpy())\n",
    "index.add(embeddings.numpy())"
   ]
  },
  {
   "cell_type": "code",
   "execution_count": 21,
   "metadata": {},
   "outputs": [],
   "source": [
    "# Fonction de recherche\n",
    "def search(query, top_k=10):\n",
    "    # Vectoriser la requête\n",
    "    query_embedding = sbert_model.encode([query], convert_to_tensor=True)\n",
    "    faiss.normalize_L2(query_embedding.numpy())\n",
    "    \n",
    "    # Rechercher les documents les plus proches avec FAISS\n",
    "    _, faiss_results = index.search(query_embedding.numpy(), top_k)\n",
    "    faiss_scores = [(documents[i], json_data[i]) for i in faiss_results[0]]\n",
    "    \n",
    "    # Réordonner les résultats avec le Cross-Encoder\n",
    "    cross_scores = cross_encoder.predict([(query, doc[0]) for doc in faiss_scores])\n",
    "    ranked_results = [x for _, x in sorted(zip(cross_scores, faiss_scores), reverse=True)]\n",
    "    \n",
    "    return ranked_results[:top_k]"
   ]
  },
  {
   "cell_type": "code",
   "execution_count": 23,
   "metadata": {},
   "outputs": [
    {
     "name": "stdout",
     "output_type": "stream",
     "text": [
      "Titre: Isolation des séchoirs\n",
      "Code: 1006\n",
      "---\n",
      "Titre: Isolation d'un plancher\n",
      "Code: 252\n",
      "---\n",
      "Titre: Isolation des combles ou de toiture\n",
      "Code: 250\n",
      "---\n",
      "Titre: Panneaux d'isolation sous vide\n",
      "Code: 1575\n",
      "---\n",
      "Titre: Sur isolation du réseau de chaleur\n",
      "Code: 1638\n",
      "---\n",
      "Titre: Amélioration de l'isolation des bâtiments\n",
      "Code: 97\n",
      "---\n",
      "Titre: Isolation des murs par l'extérieur\n",
      "Code: 254\n",
      "---\n",
      "Titre: Isolation des équipements qui ne le sont pas\n",
      "Code: 333\n",
      "---\n",
      "Titre: Isolation des toitures terrasses et couvertures de faible pente\n",
      "Code: 255\n",
      "---\n",
      "Titre: Isolation des murs par l'intérieur\n",
      "Code: 251\n",
      "---\n"
     ]
    }
   ],
   "source": [
    "# Exemple de recherche\n",
    "query = \"Comment isoler ma maison\"\n",
    "results = search(query)\n",
    "for doc, metadata in results:\n",
    "    print(f\"Titre: {metadata['title']}\")\n",
    "    print(f\"Code: {metadata['identifier']}\")\n",
    "    print(\"---\")"
   ]
  }
 ],
 "metadata": {
  "kernelspec": {
   "display_name": ".venv",
   "language": "python",
   "name": "python3"
  },
  "language_info": {
   "codemirror_mode": {
    "name": "ipython",
    "version": 3
   },
   "file_extension": ".py",
   "mimetype": "text/x-python",
   "name": "python",
   "nbconvert_exporter": "python",
   "pygments_lexer": "ipython3",
   "version": "3.8.10"
  }
 },
 "nbformat": 4,
 "nbformat_minor": 2
}
