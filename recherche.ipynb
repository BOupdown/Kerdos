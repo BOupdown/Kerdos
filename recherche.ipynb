{
 "cells": [
  {
   "cell_type": "markdown",
   "metadata": {},
   "source": [
    "Retrieval pour la barre de recherche"
   ]
  },
  {
   "cell_type": "code",
   "execution_count": 89,
   "metadata": {},
   "outputs": [],
   "source": [
    "import json\n",
    "import faiss\n",
    "import numpy as np\n",
    "from sentence_transformers import SentenceTransformer, CrossEncoder, util\n",
    "import re"
   ]
  },
  {
   "cell_type": "code",
   "execution_count": 90,
   "metadata": {},
   "outputs": [],
   "source": [
    "# Initialiser le modèle SBERT et le Cross-Encoder\n",
    "sbert_model = SentenceTransformer(\"paraphrase-multilingual-mpnet-base-v2\")\n",
    "cross_encoder = CrossEncoder(\"cross-encoder/ms-marco-electra-base\")\n",
    "#\"antoinelouis/crossencoder-electra-base-french-mmarcoFR\"\n",
    "#cross-encoder/ms-marco-MiniLM-L-12-v2\n",
    "#cross-encoder/ms-marco-MiniLM-L-6-v2\n",
    "#cross-encoder/camembert-base\n",
    "#cross-encoder/ms-marco-electra-base"
   ]
  },
  {
   "cell_type": "code",
   "execution_count": 91,
   "metadata": {},
   "outputs": [],
   "source": [
    "# Charger les données JSON\n",
    "json_file_path = \"linked_files.json\"\n",
    "with open(json_file_path, \"r\", encoding=\"utf-8\") as file:\n",
    "    json_data = json.load(file)"
   ]
  },
  {
   "cell_type": "code",
   "execution_count": 92,
   "metadata": {},
   "outputs": [],
   "source": [
    "def extract_technique_section(content):\n",
    "    # Rechercher la section Technique jusqu'au prochain titre de niveau 1\n",
    "    match = re.search(r\"# Technique\\s*(.*?)(?=\\n# |\\Z)\", content, re.DOTALL)\n",
    "    if match:\n",
    "        # Extraire le contenu\n",
    "        technique_text = match.group(1).strip()\n",
    "        # Supprimer toutes les lignes commençant par un '#' (titres et sous-titres)\n",
    "        cleaned_text = re.sub(r\"^#.*\", \"\", technique_text, flags=re.MULTILINE)\n",
    "        # Nettoyer les espaces et les lignes vides\n",
    "        return \"\\n\".join(line.strip() for line in cleaned_text.splitlines() if line.strip())\n",
    "    return \"\"\n"
   ]
  },
  {
   "cell_type": "code",
   "execution_count": null,
   "metadata": {},
   "outputs": [
    {
     "name": "stdout",
     "output_type": "stream",
     "text": [
      "1070\n"
     ]
    }
   ],
   "source": [
    "# Extraire les titres et le contenu technique\n",
    "documents = []\n",
    "for entry in json_data:\n",
    "    title = entry[\"title\"]\n",
    "    content = entry[\"content\"]\n",
    "    # Extraire uniquement la partie \"Technique\" du contenu\n",
    "    technique_section = extract_technique_section(content)\n",
    "    # Combiner le titre et le contenu technique\n",
    "    combined_text = f\"{title} {technique_section}\"\n",
    "    #print(combined_text)\n",
    "    documents.append(combined_text)\n",
    "\n",
    "print(documents)"
   ]
  },
  {
   "cell_type": "code",
   "execution_count": 95,
   "metadata": {},
   "outputs": [],
   "source": [
    "# Calculer les embeddings des documents\n",
    "embeddings = sbert_model.encode(documents)\n",
    "\n",
    "# Indexer avec FAISS\n",
    "index = faiss.IndexFlatL2(embeddings.shape[1])\n",
    "faiss.normalize_L2(embeddings)\n",
    "index.add(embeddings)"
   ]
  },
  {
   "cell_type": "code",
   "execution_count": 109,
   "metadata": {},
   "outputs": [],
   "source": [
    "# Fonction de recherche\n",
    "def search(query, top_k):\n",
    "    # Vectoriser la requêteJe \n",
    "    query_embedding = sbert_model.encode([query])\n",
    "    faiss.normalize_L2(query_embedding)\n",
    "    \n",
    "    # Rechercher les documents les plus proches avec FAISS\n",
    "    _, faiss_results = index.search(query_embedding, top_k)\n",
    "    faiss_scores = [(documents[i], json_data[i]) for i in faiss_results[0]]\n",
    "    \n",
    "    # Réordonner les résultats avec le Cross-Encoder\n",
    "    cross_scores = cross_encoder.predict([(query, doc[0]) for doc in faiss_scores])\n",
    "    ranked_results = [x for _, x in sorted(zip(cross_scores, faiss_scores), reverse=True)]\n",
    "    \n",
    "    return ranked_results[:top_k]"
   ]
  },
  {
   "cell_type": "code",
   "execution_count": 113,
   "metadata": {},
   "outputs": [
    {
     "name": "stdout",
     "output_type": "stream",
     "text": [
      "789\n",
      "Precision Score: 0.48\n"
     ]
    }
   ],
   "source": [
    "import pandas as pd\n",
    "\n",
    "def evaluate_search_performance(file_path, search_function, top_k=5, sample_size=789):  \n",
    "    df = pd.read_excel(file_path)\n",
    "    \n",
    "    # Filtrer les lignes où les deux informations sont présentes\n",
    "    valid_rows = df[(df['Solution/Action'].notna()) & (df['Code K'].notna())]\n",
    "    print(len(valid_rows))\n",
    "    # Sélectionner un échantillon aléatoire\n",
    "    if len(valid_rows) > sample_size:\n",
    "        sampled_rows = valid_rows.sample(n=sample_size, random_state=44)  # random_state pour la reproductibilité\n",
    "    else:\n",
    "        sampled_rows = valid_rows  # Utiliser toutes les lignes si moins de 200 sont disponibles\n",
    "    \n",
    "    # Initialiser les compteurs\n",
    "    total_queries = 0\n",
    "    correct_matches = 0\n",
    "    \n",
    "    # Parcourir les lignes sélectionnées\n",
    "    for index, row in sampled_rows.iterrows():\n",
    "        description = row['Solution/Action']\n",
    "        code_k = row['Code K']\n",
    "        \n",
    "        total_queries += 1\n",
    "        \n",
    "        # Effectuer la recherche\n",
    "        results = search_function(description, top_k)\n",
    "        \n",
    "        # Vérifier si le code K est dans les résultats\n",
    "        found = False\n",
    "        for result, metadata in results:\n",
    "            if str(code_k) == metadata['identifier']:\n",
    "                found = True\n",
    "                break\n",
    "        \n",
    "        if found:\n",
    "            correct_matches += 1\n",
    "    \n",
    "    # Calculer le score de précision\n",
    "    if total_queries > 0:\n",
    "        precision = correct_matches / total_queries\n",
    "    else:\n",
    "        precision = 0\n",
    "    \n",
    "    return precision\n",
    "\n",
    "\n",
    "# Exemple d'utilisation\n",
    "file_path = 'gain_CO2.xlsx'\n",
    "precision_score = evaluate_search_performance(file_path, search)\n",
    "print(f\"Precision Score: {precision_score:.2f}\")"
   ]
  },
  {
   "cell_type": "code",
   "execution_count": null,
   "metadata": {},
   "outputs": [
    {
     "name": "stdout",
     "output_type": "stream",
     "text": [
      "Titre: Isolation des combles ou de toiture\n",
      "Code: 250\n",
      "---\n",
      "Titre: Isolation des murs par l'intérieur\n",
      "Code: 251\n",
      "---\n",
      "Titre: Isolation des toitures terrasses et couvertures de faible pente\n",
      "Code: 255\n",
      "---\n",
      "Titre: Isolation des murs par l'extérieur\n",
      "Code: 254\n",
      "---\n",
      "Titre: Isolation thermique par rideau d'air \n",
      "Code: 1620\n",
      "---\n",
      "Titre: Isolation d'un plancher\n",
      "Code: 252\n",
      "---\n",
      "Titre: Isolation des fourreaux\n",
      "Code: 917\n",
      "---\n",
      "Titre: Séparation des parties chauffées et non chauffées du bâtiment\n",
      "Code: 266\n",
      "---\n",
      "Titre: Isolation des parois verticales entre les ateliers\n",
      "Code: 269\n",
      "---\n",
      "Titre: Fermeture des rideaux et volets la nuit\n",
      "Code: 767\n",
      "---\n"
     ]
    }
   ],
   "source": [
    "# Exemple de recherche\n",
    "query = \"Comment isoler ma maison\"\n",
    "results = search(query)\n",
    "for doc, metadata in results:\n",
    "    print(f\"Titre: {metadata['title']}\")\n",
    "    print(f\"Code: {metadata['identifier']}\")\n",
    "    print(\"---\")"
   ]
  },
  {
   "cell_type": "markdown",
   "metadata": {},
   "source": [
    "Partie génération du chatbot avec web search"
   ]
  },
  {
   "cell_type": "code",
   "execution_count": null,
   "metadata": {},
   "outputs": [],
   "source": [
    "import ollama\n",
    "from ollama import chat\n",
    "from ollama import ChatResponse\n",
    "from duckduckgo_search import DDGS\n",
    "from transformers import AutoTokenizer \n",
    "import nltk\n",
    "from nltk.corpus import stopwords"
   ]
  },
  {
   "cell_type": "code",
   "execution_count": null,
   "metadata": {},
   "outputs": [],
   "source": [
    "# Télécharger les stopwords si ce n'est pas déjà fait\n",
    "# nltk.download('stopwords')\n",
    "stop_words = set(stopwords.words('french'))"
   ]
  },
  {
   "cell_type": "code",
   "execution_count": null,
   "metadata": {},
   "outputs": [],
   "source": [
    "# Fonction de Recherche Web avec DuckDuckGo\n",
    "def web_search(query, num_results=5):\n",
    "    \"\"\"Effectue une recherche sur Internet et retourne les résultats.\"\"\"\n",
    "    # Filtrer les mots inutiles dans la question \n",
    "    filtered_query = filter_stop_words(query)\n",
    "    \n",
    "    results = []\n",
    "    with DDGS() as ddgs:\n",
    "        for r in ddgs.text(filtered_query, max_results=num_results):\n",
    "            results.append(r[\"body\"])\n",
    "    return \"\\n\".join(results)\n",
    "\n",
    "# Fonction pour enlever les mots inutiles (stopwords)\n",
    "def filter_stop_words(text):\n",
    "    \"\"\"Enlève les mots inutiles de la question.\"\"\"\n",
    "    words = text.split()\n",
    "    filtered_words = [word for word in words if word.lower() not in stop_words]\n",
    "    return \" \".join(filtered_words)\n",
    "\n",
    "# Fonction de génération avec pipeline (Gemma:2b)\n",
    "def generate_answer(prompt, retrieved_info, max_length=2000):\n",
    "    \"\"\"Génère une réponse via Gemma:2b.\"\"\"\n",
    "    response = chat(model='gemma:2b', messages=[\n",
    "        {\"role\": \"system\", \"content\": f\"\"\"DOCUMENTS:\\n{retrieved_info}\\n\\nQUESTION:\\n{query}\\n\\nINSTRUCTIONS:\n",
    "    Réponds à la QUESTION en utilisant exclusivement les DOCUMENTS fournis.\n",
    "    Ta réponse doit être concise, claire et formulée avec tes propres mots.\n",
    "    Donne des exemples concrets si possible.\n",
    "    Donne des explications détaillées si nécessaire.\n",
    "    N'hésite pas à donner plusieurs informations.\n",
    "    Si la réponse n'est pas contenue dans les documents, réponds simplement que tu n'as pas trouvé d'information sur ce sujet.\n",
    "    \"\"\"},\n",
    "        {\"role\": \"user\", \"content\": prompt}\n",
    "    ])\n",
    "    return response['message']['content']\n",
    "\n",
    "# Système RAG : Recherche + Génération\n",
    "def rag_system(question):\n",
    "    \"\"\"Système RAG qui combine recherche web et génération de réponse.\"\"\"\n",
    "    # Recherche Web pour obtenir des informations pertinentes\n",
    "    retrieved_info = web_search(question)  \n",
    "    \n",
    "    # Créer le prompt avec la question et les infos récupérées\n",
    "    prompt = f\"Question: {question}\\nInfos trouvées:\\n{retrieved_info}\\nRéponse:\"\n",
    "    \n",
    "    # Génération de la réponse via Gemma:2b\n",
    "    response = generate_answer(prompt, retrieved_info)\n",
    "    \n",
    "    return response"
   ]
  },
  {
   "cell_type": "code",
   "execution_count": null,
   "metadata": {},
   "outputs": [
    {
     "name": "stdout",
     "output_type": "stream",
     "text": [
      "Réponse générée : **Instructions pour isoler une maison**\n",
      "\n",
      "1. Éliminez les ponts thermiques de la porte d'entrée.\n",
      "\n",
      "\n",
      "2. Vérifiez que les porte et l'encadrement sont correctement ajustés.\n",
      "\n",
      "\n",
      "3. Utilisez des isolants internes pour parer aux problèmes d'isolation.\n",
      "\n",
      "\n",
      "4. Si nécessaire, construisez une maison en brique, bois ou béton.\n",
      "\n",
      "\n",
      "5. Optez pour l'isolation extérieure de la maison neuve ou les travaux d'isolation des murs par l'intérieur.\n"
     ]
    }
   ],
   "source": [
    "if __name__ == \"__main__\":\n",
    "    question = input(\"Pose ta question : \")\n",
    "    response = rag_system(question)\n",
    "    print(\"Réponse générée :\", response)"
   ]
  },
  {
   "cell_type": "markdown",
   "metadata": {},
   "source": [
    "Web Search restreinte à seulement des sites prédéfinis"
   ]
  },
  {
   "cell_type": "code",
   "execution_count": null,
   "metadata": {},
   "outputs": [],
   "source": [
    "import requests\n",
    "import ollama\n",
    "from ollama import chat, ChatResponse\n",
    "from transformers import AutoTokenizer"
   ]
  },
  {
   "cell_type": "code",
   "execution_count": null,
   "metadata": {},
   "outputs": [],
   "source": [
    "# Clé API et ID moteur de recherche pour Google Custom Search\n",
    "API_KEY = ''\n",
    "SEARCH_ENGINE_ID = '14514bd4afbb647a0'"
   ]
  },
  {
   "cell_type": "code",
   "execution_count": null,
   "metadata": {},
   "outputs": [],
   "source": [
    "# Fonction de Recherche Web avec Google Custom Search\n",
    "def web_search(query, num_results=5):\n",
    "    \"\"\"Effectue une recherche sur Internet et retourne les résultats depuis des sites spécifiques.\"\"\"\n",
    "\n",
    "    # Filtrer les mots inutiles dans la question\n",
    "    filtered_query = filter_stop_words(query)\n",
    "    \n",
    "    # Construire l'URL de l'API Google Custom Search\n",
    "    url = f\"https://www.googleapis.com/customsearch/v1?q={filtered_query}&cx={SEARCH_ENGINE_ID}&key={API_KEY}\"\n",
    "    \n",
    "    response = requests.get(url)\n",
    "    data = response.json()\n",
    "\n",
    "    results = []\n",
    "    if 'items' in data:\n",
    "        for item in data['items'][:num_results]:\n",
    "            results.append(item['snippet'])  # Extraire les extraits des résultats\n",
    "    return \"\\n\".join(results)\n",
    "\n",
    "# Fonction pour enlever les mots inutiles (stopwords)\n",
    "def filter_stop_words(text):\n",
    "    \"\"\"Enlève les mots inutiles de la question.\"\"\"\n",
    "    words = text.split()\n",
    "    filtered_words = [word for word in words if word.lower() not in stop_words]\n",
    "    return \" \".join(filtered_words)\n",
    "\n",
    "# Fonction de génération avec pipeline (Gemma:2b)\n",
    "def generate_answer(prompt, retrieved_info, max_length=500):\n",
    "    \"\"\"Génère une réponse via Gemma:2b.\"\"\"\n",
    "    response = chat(model='gemma:2b', messages=[\n",
    "        {\"role\": \"system\", \"content\": f\"\"\"DOCUMENTS:\\n{retrieved_info}\\n\\nQUESTION:\\n{query}\\n\\nINSTRUCTIONS:\n",
    "    Réponds à la QUESTION en utilisant exclusivement les DOCUMENTS fournis.\n",
    "    Ta réponse doit être concise, claire et formulée avec tes propres mots.\n",
    "    Donne des exemples concrets si possible.\n",
    "    Donne des explications détaillées si nécessaire.\n",
    "    N'hésite pas à donner plusieurs informations.\n",
    "    Si la réponse n'est pas contenue dans les documents, réponds simplement que tu n'as pas trouvé d'information sur ce sujet.\n",
    "    \"\"\"},\n",
    "        {\"role\": \"user\", \"content\": prompt}\n",
    "    ])\n",
    "    return response['message']['content']\n",
    "\n",
    "# Système RAG : Recherche + Génération\n",
    "def rag_system(question):\n",
    "    \"\"\"Système RAG qui combine recherche web et génération de réponse.\"\"\"\n",
    "    # Recherche Web pour obtenir des informations pertinentes\n",
    "    retrieved_info = web_search(question)  \n",
    "    \n",
    "    # Créer le prompt avec la question et les infos récupérées\n",
    "    prompt = f\"Question: {question}\\nInfos trouvées:\\n{retrieved_info}\\nRéponse:\"\n",
    "        \n",
    "    # Génération de la réponse via Gemma:2b\n",
    "    response = generate_answer(prompt, retrieved_info)\n",
    "    \n",
    "    return response"
   ]
  },
  {
   "cell_type": "code",
   "execution_count": null,
   "metadata": {},
   "outputs": [
    {
     "name": "stdout",
     "output_type": "stream",
     "text": [
      "**Comment isoler votre maison**\n",
      "\n",
      "**1. Évaluer votre niveau de risque:**\n",
      "* Déterminez la gravité des éléments de sécurité potentiels à l'intérieur de votre maison (chambres, portes, fenêtres, etc.).\n",
      "* Évaluerz l'état de votre maison et les dommages éventuels.\n",
      "\n",
      "**2. Planifiez et priorisez les travaux:**\n",
      "* Priorisez les travaux les plus importants en fonction de la gravité des risques.\n",
      "* Élaborez un plan détaillé pour chaque étape de l'isolation.\n",
      "\n",
      "**3. Établir un plan d'urgence:**\n",
      "* Prévoyez des moyens de communication et des systèmes de sécurité pendant qu'il y a une interruption d'électricité.\n",
      "* Planifiez un plan de secours pour les situations d'urgence.\n",
      "\n",
      "**4. Utilisez des protections:**\n",
      "* Utilisez des protecteurs de soleil, des portes d'étanché et des fenêtres isolées pour protéger les personnes contre le soleil et les éléments.\n",
      "* Utilisez des garde-fous et des systèmes de ventilation pour lutter contre les gaz toxiques.\n",
      "\n",
      "**5. Privilégiez les mesures de sécurité:**\n",
      "* Installez des portes et des fenêtres de faible traversant.\n",
      "* Utilisez des fenêtres à faible ouverture et des portes à double glaciaire.\n",
      "* Assurez la bonne ventilation du bâtiment.\n",
      "\n",
      "**6. Utilisez des matériaux de protection:**\n",
      "* Utilisez des briques de verre ou des placards de bois pour isoler les murs et les portes.\n",
      "* Utilisez des matériaux de feu chaud pour isoler les fenêtres et les portes.\n",
      "* Utilisez des feuilles ou des tapis de papier pour isoler les sols de chemin.\n",
      "\n",
      "**7. Vérifiez que les travaux sont effectués correctement:**\n",
      "* Vérifiez que les portes et les fenêtres sont correctement serrées.\n",
      "* Vérifiez que les murs et les sols sont bien isolés.\n",
      "* Vérifiez que les systèmes de sécurité sont fonctionnels.\n"
     ]
    }
   ],
   "source": [
    "# Exemple d'utilisation\n",
    "question = \"Comment isoler sa maison\"\n",
    "response = rag_system(question)\n",
    "print(response)"
   ]
  }
 ],
 "metadata": {
  "kernelspec": {
   "display_name": ".venv",
   "language": "python",
   "name": "python3"
  },
  "language_info": {
   "codemirror_mode": {
    "name": "ipython",
    "version": 3
   },
   "file_extension": ".py",
   "mimetype": "text/x-python",
   "name": "python",
   "nbconvert_exporter": "python",
   "pygments_lexer": "ipython3",
   "version": "3.8.10"
  }
 },
 "nbformat": 4,
 "nbformat_minor": 2
}
