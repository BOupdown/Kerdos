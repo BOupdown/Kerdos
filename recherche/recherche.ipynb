{
 "cells": [
  {
   "cell_type": "code",
   "execution_count": 29,
   "metadata": {},
   "outputs": [],
   "source": [
    "import json\n",
    "import faiss\n",
    "import numpy as np\n",
    "from sentence_transformers import SentenceTransformer, CrossEncoder, util\n",
    "import re"
   ]
  },
  {
   "cell_type": "code",
   "execution_count": 30,
   "metadata": {},
   "outputs": [],
   "source": [
    "# Charger les données JSON\n",
    "json_file_path = \"linked_files.json\"\n",
    "with open(json_file_path, \"r\", encoding=\"utf-8\") as file:\n",
    "    json_data = json.load(file)"
   ]
  },
  {
   "cell_type": "code",
   "execution_count": 31,
   "metadata": {},
   "outputs": [],
   "source": [
    "def extract_technique_section(content):\n",
    "    # Rechercher la section Technique jusqu'au prochain titre de niveau 1\n",
    "    match = re.search(r\"# Technique\\s*(.*?)(?=\\n# |\\Z)\", content, re.DOTALL)\n",
    "    if match:\n",
    "        # Extraire le contenu\n",
    "        technique_text = match.group(1).strip()\n",
    "        # Supprimer toutes les lignes commençant par un '#' (titres et sous-titres)\n",
    "        cleaned_text = re.sub(r\"^#.*\", \"\", technique_text, flags=re.MULTILINE)\n",
    "        # Nettoyer les espaces et les lignes vides\n",
    "        return \"\\n\".join(line.strip() for line in cleaned_text.splitlines() if line.strip())\n",
    "    return \"\"\n"
   ]
  },
  {
   "cell_type": "code",
   "execution_count": 36,
   "metadata": {},
   "outputs": [
    {
     "name": "stdout",
     "output_type": "stream",
     "text": [
      "Réduction des pertes de chaleur par les ouvertures du four Identifier les ouvertures du fours et réduire les pertes de chaleur associées.\n",
      "Les déperditions de chaleur par rayonnement peuvent se produire par les ouvertures des fours servant au chargement/déchargement. Ceci est particulièrement important dans les fours fonctionnant à une température supérieure à 500 °C.\n",
      "Les ouvertures sont, entre autres, les trappes d’évacuation et les cheminées, les trous de regard permettant de vérifier visuellement le procédé, les portes laissées partiellement ouvertes pour s’adapter à une tâche surdimensionnée, le chargement et le déchargement des matières et/ou des combustibles, etc.\n"
     ]
    }
   ],
   "source": [
    "# Extraire les titres et le contenu technique\n",
    "documents = []\n",
    "for entry in json_data:\n",
    "    title = entry[\"title\"]\n",
    "    content = entry[\"content\"]\n",
    "    # Extraire uniquement la partie \"Technique\" du contenu\n",
    "    technique_section = extract_technique_section(content)\n",
    "    # Combiner le titre et le contenu technique\n",
    "    combined_text = f\"{title} {technique_section}\"\n",
    "    documents.append(combined_text)\n",
    "\n",
    "print(documents[18])"
   ]
  },
  {
   "cell_type": "code",
   "execution_count": 37,
   "metadata": {},
   "outputs": [],
   "source": [
    "# Initialiser le modèle SBERT et le Cross-Encoder\n",
    "sbert_model = SentenceTransformer(\"paraphrase-multilingual-mpnet-base-v2\")\n",
    "cross_encoder = CrossEncoder(\"cross-encoder/ms-marco-electra-base\")\n",
    "#\"antoinelouis/crossencoder-electra-base-french-mmarcoFR\"\n",
    "#cross-encoder/ms-marco-MiniLM-L-12-v2\n",
    "#cross-encoder/ms-marco-MiniLM-L-6-v2\n",
    "#cross-encoder/camembert-base\n",
    "#cross-encoder/ms-marco-electra-base\n",
    "\n",
    "\n",
    "# Calculer les embeddings des documents\n",
    "embeddings = sbert_model.encode(documents)\n",
    "\n",
    "# Indexer avec FAISS\n",
    "index = faiss.IndexFlatL2(embeddings.shape[1])\n",
    "faiss.normalize_L2(embeddings)\n",
    "index.add(embeddings)"
   ]
  },
  {
   "cell_type": "code",
   "execution_count": 38,
   "metadata": {},
   "outputs": [],
   "source": [
    "# Fonction de recherche\n",
    "def search(query, top_k=10):\n",
    "    # Vectoriser la requête\n",
    "    query_embedding = sbert_model.encode([query])\n",
    "    faiss.normalize_L2(query_embedding)\n",
    "    \n",
    "    # Rechercher les documents les plus proches avec FAISS\n",
    "    _, faiss_results = index.search(query_embedding, top_k)\n",
    "    faiss_scores = [(documents[i], json_data[i]) for i in faiss_results[0]]\n",
    "    \n",
    "    # Réordonner les résultats avec le Cross-Encoder\n",
    "    cross_scores = cross_encoder.predict([(query, doc[0]) for doc in faiss_scores])\n",
    "    ranked_results = [x for _, x in sorted(zip(cross_scores, faiss_scores), reverse=True)]\n",
    "    \n",
    "    return ranked_results[:top_k]"
   ]
  },
  {
   "cell_type": "code",
   "execution_count": 41,
   "metadata": {},
   "outputs": [
    {
     "name": "stdout",
     "output_type": "stream",
     "text": [
      "Titre: Pompe de surpression pour des hautes pressions ponctuelles\n",
      "Code: 64\n",
      "---\n",
      "Titre: Réduction de la pression quand cela est possible\n",
      "Code: 204\n",
      "---\n",
      "Titre: Réduction de la pression de l'air comprimé au minimum requis\n",
      "Code: 332\n",
      "---\n",
      "Titre: Pompe à chaleur haute température pour valoriser la vapeur basse pression\n",
      "Code: 104\n",
      "---\n",
      "Titre: Optimisation de la pression des soufflettes\n",
      "Code: 158\n",
      "---\n",
      "Titre: Echangeurs de pression\n",
      "Code: 1060\n",
      "---\n",
      "Titre: Surpresseur et réseau d'air multi pressions pour répondre aux besoins localisés\n",
      "Code: 143\n",
      "---\n",
      "Titre: Compresseur basse pression à vis\n",
      "Code: 971\n",
      "---\n",
      "Titre: Niveau de pression optimum pour les pompes à vide\n",
      "Code: 945\n",
      "---\n",
      "Titre: Réglage des températures de consigne et des débits d'extraction\n",
      "Code: 1523\n",
      "---\n"
     ]
    }
   ],
   "source": [
    "# Exemple de recherche\n",
    "query = \"Haute pression\"\n",
    "results = search(query)\n",
    "for doc, metadata in results:\n",
    "    print(f\"Titre: {metadata['title']}\")\n",
    "    print(f\"Code: {metadata['identifier']}\")\n",
    "    print(\"---\")"
   ]
  }
 ],
 "metadata": {
  "kernelspec": {
   "display_name": ".venv",
   "language": "python",
   "name": "python3"
  },
  "language_info": {
   "codemirror_mode": {
    "name": "ipython",
    "version": 3
   },
   "file_extension": ".py",
   "mimetype": "text/x-python",
   "name": "python",
   "nbconvert_exporter": "python",
   "pygments_lexer": "ipython3",
   "version": "3.8.10"
  }
 },
 "nbformat": 4,
 "nbformat_minor": 2
}
