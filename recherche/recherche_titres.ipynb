{
 "cells": [
  {
   "cell_type": "code",
   "execution_count": 1,
   "metadata": {},
   "outputs": [
    {
     "name": "stderr",
     "output_type": "stream",
     "text": [
      "/home/cytech/Documents/PFE/.venv/lib/python3.8/site-packages/sentence_transformers/cross_encoder/CrossEncoder.py:13: TqdmWarning: IProgress not found. Please update jupyter and ipywidgets. See https://ipywidgets.readthedocs.io/en/stable/user_install.html\n",
      "  from tqdm.autonotebook import tqdm, trange\n"
     ]
    }
   ],
   "source": [
    "import json\n",
    "import faiss\n",
    "import numpy as np\n",
    "from sentence_transformers import SentenceTransformer, CrossEncoder, util\n",
    "from rank_bm25 import BM25Okapi\n",
    "from nltk.corpus import wordnet"
   ]
  },
  {
   "cell_type": "code",
   "execution_count": 2,
   "metadata": {},
   "outputs": [],
   "source": [
    "# Charger les données JSON depuis un fichier\n",
    "json_file_path = \"actions.json\"\n",
    "with open(json_file_path, \"r\", encoding=\"utf-8\") as file:\n",
    "    json_data = json.load(file)"
   ]
  },
  {
   "cell_type": "code",
   "execution_count": 3,
   "metadata": {},
   "outputs": [],
   "source": [
    "# Extraire les textes et les identifiants\n",
    "documents = list(json_data.keys())\n",
    "doc_ids = list(json_data.values())\n",
    "\n",
    "# Initialiser le modèle SBERT et le Cross-Encoder\n",
    "sbert_model = SentenceTransformer(\"all-MiniLM-L6-v2\")\n",
    "cross_encoder = CrossEncoder(\"cross-encoder/ms-marco-MiniLM-L-6-v2\")\n",
    "\n",
    "# Calculer les embeddings des documents\n",
    "embeddings = sbert_model.encode(documents, convert_to_tensor=True)\n",
    "\n",
    "# Indexer avec FAISS\n",
    "index = faiss.IndexFlatL2(embeddings.shape[1])\n",
    "faiss.normalize_L2(embeddings.numpy())\n",
    "index.add(embeddings.numpy())\n",
    "\n",
    "# Initialiser BM25\n",
    "tokenized_corpus = [doc.split() for doc in documents]\n",
    "bm25 = BM25Okapi(tokenized_corpus)"
   ]
  },
  {
   "cell_type": "code",
   "execution_count": 4,
   "metadata": {},
   "outputs": [],
   "source": [
    "def expand_query(query):\n",
    "    words = query.split()\n",
    "    expanded_words = set(words)\n",
    "    for word in words:\n",
    "        for syn in wordnet.synsets(word):\n",
    "            for lemma in syn.lemmas():\n",
    "                expanded_words.add(lemma.name())\n",
    "    return \" \".join(expanded_words)\n",
    "\n",
    "def search(query, top_k=10):\n",
    "    query_expanded = expand_query(query)\n",
    "    query_embedding = sbert_model.encode([query_expanded], convert_to_tensor=True)\n",
    "    faiss.normalize_L2(query_embedding.numpy())\n",
    "    _, faiss_results = index.search(query_embedding.numpy(), top_k)\n",
    "    faiss_scores = [(documents[i], doc_ids[i]) for i in faiss_results[0]]\n",
    "    \n",
    "    bm25_scores = bm25.get_top_n(query_expanded.split(), documents, n=top_k)\n",
    "    bm25_scores_with_ids = [(doc, doc_ids[documents.index(doc)]) for doc in bm25_scores]\n",
    "    \n",
    "    combined_results = list(set(faiss_scores + bm25_scores_with_ids))\n",
    "    cross_scores = cross_encoder.predict([(query, doc[0]) for doc in combined_results])\n",
    "    ranked_results = [x for _, x in sorted(zip(cross_scores, combined_results), reverse=True)]\n",
    "    \n",
    "    return ranked_results[:top_k]"
   ]
  },
  {
   "cell_type": "code",
   "execution_count": 5,
   "metadata": {},
   "outputs": [
    {
     "name": "stdout",
     "output_type": "stream",
     "text": [
      "Titre:  Hydrolienne flottante, Code: 1604\n",
      "Titre:  Campagne de mesures, Code: 955\n",
      "Titre:  Haute pression flottante, Code: 724\n",
      "Titre:  Autopartage, Code: 1508\n",
      "Titre:  Oxycombustion, Code: 360\n",
      "Titre:  Chauffage par induction, Code: 496\n",
      "Titre:  Sensibilisation du personnel aux coûts de l'énergie, Code: 932\n",
      "Titre:  Communication sur les bénéfices d'une politique d'économie d'énergie, Code: 450\n",
      "Titre:  Four à oxycombustion, Code: 935\n",
      "Titre:  Formation du personnel pour éviter les pertes de temps et de production, Code: 342\n"
     ]
    }
   ],
   "source": [
    "# Exemple de recherche\n",
    "query = \"Comment isoler ma maison\"\n",
    "results = search(query)\n",
    "for title, code in results:\n",
    "    print(f\"Titre: {title}, Code: {code}\")"
   ]
  }
 ],
 "metadata": {
  "kernelspec": {
   "display_name": ".venv",
   "language": "python",
   "name": "python3"
  },
  "language_info": {
   "codemirror_mode": {
    "name": "ipython",
    "version": 3
   },
   "file_extension": ".py",
   "mimetype": "text/x-python",
   "name": "python",
   "nbconvert_exporter": "python",
   "pygments_lexer": "ipython3",
   "version": "3.8.10"
  }
 },
 "nbformat": 4,
 "nbformat_minor": 2
}
